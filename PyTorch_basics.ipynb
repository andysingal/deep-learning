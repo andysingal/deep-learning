{
  "nbformat": 4,
  "nbformat_minor": 0,
  "metadata": {
    "colab": {
      "provenance": [],
      "authorship_tag": "ABX9TyPcdmEWRHLbrkPrln/pUc6Z",
      "include_colab_link": true
    },
    "kernelspec": {
      "name": "python3",
      "display_name": "Python 3"
    },
    "language_info": {
      "name": "python"
    }
  },
  "cells": [
    {
      "cell_type": "markdown",
      "metadata": {
        "id": "view-in-github",
        "colab_type": "text"
      },
      "source": [
        "<a href=\"https://colab.research.google.com/github/andysingal/deep-learning/blob/main/PyTorch_basics.ipynb\" target=\"_parent\"><img src=\"https://colab.research.google.com/assets/colab-badge.svg\" alt=\"Open In Colab\"/></a>"
      ]
    },
    {
      "cell_type": "markdown",
      "source": [
        "#What is PyTorch?\n",
        "PyTorch is a scalable and multiplatform programming interface for implementing and running machine learning algorithms, including convenience wrappers for deep learning. PyTorch was primarily developed by the researchers and engineers from the Facebook AI Research (FAIR) lab. Its development also involves many contributions from the community. "
      ],
      "metadata": {
        "id": "8EIhyLwXy6b4"
      }
    },
    {
      "cell_type": "markdown",
      "source": [
        "Mathematically, tensors can be understood as a generalization of scalars, vectors, matrices, and so on. More concretely, a scalar can be defined as a rank-0 tensor, a vector can be defined as a rank-1 tensor, a matrix can be defined as a rank-2 tensor, and matrices stacked in a third dimension can be defined as rank-3 tensors. Tensors in PyTorch are similar to NumPy’s arrays, except that tensors are optimized for automatic differentiation and can run on GPUs."
      ],
      "metadata": {
        "id": "sfILJlMozYRY"
      }
    },
    {
      "cell_type": "markdown",
      "source": [
        "PyTorch is built around a computation graph composed of a set of nodes. Each node represents an operation that may have zero or more inputs or outputs. PyTorch provides an imperative programming environment that evaluates operations, executes computation, and returns concrete values immediately. Hence, the computation graph in PyTorch is defined implicitly, rather than constructed in advance and executed after."
      ],
      "metadata": {
        "id": "gQO9j2gG0NhO"
      }
    },
    {
      "cell_type": "markdown",
      "source": [
        "#How we will learn PyTorch\n",
        "First, we are going to cover PyTorch’s programming model, in particular, creating and manipulating tensors. Then, we will see how to load data and utilize the torch.utils.data module, which will allow us to iterate through a dataset efficiently. In addition, we will discuss the existing, ready-to-use datasets in the torch.utils.data.Dataset submodule and learn how to use them."
      ],
      "metadata": {
        "id": "m9HToUo_0ZR8"
      }
    },
    {
      "cell_type": "code",
      "execution_count": 3,
      "metadata": {
        "colab": {
          "base_uri": "https://localhost:8080/"
        },
        "id": "sKb7m3DeyGp4",
        "outputId": "e8d4ab17-6399-40cf-fdf6-555574997c5d"
      },
      "outputs": [
        {
          "output_type": "stream",
          "name": "stdout",
          "text": [
            "PyTorch version: 2.0.0+cu118\n"
          ]
        }
      ],
      "source": [
        "from IPython.display import Image as IPythonImage\n",
        "import torch\n",
        "import numpy as np\n",
        "\n",
        "print('PyTorch version:', torch.__version__)\n",
        "\n",
        "np.set_printoptions(precision=3)\n",
        "%matplotlib inline"
      ]
    },
    {
      "cell_type": "code",
      "source": [
        "! python -c 'import torch; print(torch.__version__)'"
      ],
      "metadata": {
        "colab": {
          "base_uri": "https://localhost:8080/"
        },
        "id": "qPFtD_Vk0s6H",
        "outputId": "aeafe16f-8275-430d-861d-f6af4bf17826"
      },
      "execution_count": 4,
      "outputs": [
        {
          "output_type": "stream",
          "name": "stdout",
          "text": [
            "2.0.0+cu118\n"
          ]
        }
      ]
    },
    {
      "cell_type": "code",
      "source": [
        "!pip3 install torch torchvision"
      ],
      "metadata": {
        "colab": {
          "base_uri": "https://localhost:8080/"
        },
        "id": "X2_jzMVW2CiN",
        "outputId": "2d81d20f-74c6-49c9-eb64-ea92b6bff43d"
      },
      "execution_count": 5,
      "outputs": [
        {
          "output_type": "stream",
          "name": "stdout",
          "text": [
            "Looking in indexes: https://pypi.org/simple, https://us-python.pkg.dev/colab-wheels/public/simple/\n",
            "Requirement already satisfied: torch in /usr/local/lib/python3.10/dist-packages (2.0.0+cu118)\n",
            "Requirement already satisfied: torchvision in /usr/local/lib/python3.10/dist-packages (0.15.1+cu118)\n",
            "Requirement already satisfied: filelock in /usr/local/lib/python3.10/dist-packages (from torch) (3.12.0)\n",
            "Requirement already satisfied: jinja2 in /usr/local/lib/python3.10/dist-packages (from torch) (3.1.2)\n",
            "Requirement already satisfied: networkx in /usr/local/lib/python3.10/dist-packages (from torch) (3.1)\n",
            "Requirement already satisfied: typing-extensions in /usr/local/lib/python3.10/dist-packages (from torch) (4.5.0)\n",
            "Requirement already satisfied: sympy in /usr/local/lib/python3.10/dist-packages (from torch) (1.11.1)\n",
            "Requirement already satisfied: triton==2.0.0 in /usr/local/lib/python3.10/dist-packages (from torch) (2.0.0)\n",
            "Requirement already satisfied: lit in /usr/local/lib/python3.10/dist-packages (from triton==2.0.0->torch) (16.0.2)\n",
            "Requirement already satisfied: cmake in /usr/local/lib/python3.10/dist-packages (from triton==2.0.0->torch) (3.25.2)\n",
            "Requirement already satisfied: pillow!=8.3.*,>=5.3.0 in /usr/local/lib/python3.10/dist-packages (from torchvision) (8.4.0)\n",
            "Requirement already satisfied: numpy in /usr/local/lib/python3.10/dist-packages (from torchvision) (1.22.4)\n",
            "Requirement already satisfied: requests in /usr/local/lib/python3.10/dist-packages (from torchvision) (2.27.1)\n",
            "Requirement already satisfied: MarkupSafe>=2.0 in /usr/local/lib/python3.10/dist-packages (from jinja2->torch) (2.1.2)\n",
            "Requirement already satisfied: certifi>=2017.4.17 in /usr/local/lib/python3.10/dist-packages (from requests->torchvision) (2022.12.7)\n",
            "Requirement already satisfied: charset-normalizer~=2.0.0 in /usr/local/lib/python3.10/dist-packages (from requests->torchvision) (2.0.12)\n",
            "Requirement already satisfied: urllib3<1.27,>=1.21.1 in /usr/local/lib/python3.10/dist-packages (from requests->torchvision) (1.26.15)\n",
            "Requirement already satisfied: idna<4,>=2.5 in /usr/local/lib/python3.10/dist-packages (from requests->torchvision) (3.4)\n",
            "Requirement already satisfied: mpmath>=0.19 in /usr/local/lib/python3.10/dist-packages (from sympy->torch) (1.3.0)\n"
          ]
        }
      ]
    },
    {
      "cell_type": "markdown",
      "source": [
        "#Creating tensors in PyTorch"
      ],
      "metadata": {
        "id": "Lm_DPQYp2gfQ"
      }
    },
    {
      "cell_type": "code",
      "source": [
        "a = [1, 2, 3]\n",
        "b = np.array([4, 5, 6], dtype=np.int32)\n",
        "\n",
        "t_a = torch.tensor(a)\n",
        "t_b = torch.from_numpy(b)\n",
        "\n",
        "print(t_a)\n",
        "print(t_b)"
      ],
      "metadata": {
        "colab": {
          "base_uri": "https://localhost:8080/"
        },
        "id": "-0MyrZKD1z1G",
        "outputId": "39fe60f0-0c10-4763-8acc-4e214c7e81a3"
      },
      "execution_count": 6,
      "outputs": [
        {
          "output_type": "stream",
          "name": "stdout",
          "text": [
            "tensor([1, 2, 3])\n",
            "tensor([4, 5, 6], dtype=torch.int32)\n"
          ]
        }
      ]
    },
    {
      "cell_type": "code",
      "source": [
        "torch.is_tensor(a), torch.is_tensor(t_a)"
      ],
      "metadata": {
        "colab": {
          "base_uri": "https://localhost:8080/"
        },
        "id": "lIFvOTdf2cU9",
        "outputId": "abdc2945-963e-4356-a5e7-687b2eb4cd39"
      },
      "execution_count": 7,
      "outputs": [
        {
          "output_type": "execute_result",
          "data": {
            "text/plain": [
              "(False, True)"
            ]
          },
          "metadata": {},
          "execution_count": 7
        }
      ]
    },
    {
      "cell_type": "code",
      "source": [
        "t_ones = torch.ones(2, 3)\n",
        "\n",
        "t_ones.shape"
      ],
      "metadata": {
        "colab": {
          "base_uri": "https://localhost:8080/"
        },
        "id": "mjwQGvU22ql7",
        "outputId": "462dbc0e-f7f5-4bf5-8514-336d60b8b084"
      },
      "execution_count": 8,
      "outputs": [
        {
          "output_type": "execute_result",
          "data": {
            "text/plain": [
              "torch.Size([2, 3])"
            ]
          },
          "metadata": {},
          "execution_count": 8
        }
      ]
    },
    {
      "cell_type": "code",
      "source": [
        "rand_tensor = torch.rand(2,3)\n",
        "\n",
        "print(rand_tensor)"
      ],
      "metadata": {
        "colab": {
          "base_uri": "https://localhost:8080/"
        },
        "id": "ljREYZNw20Jm",
        "outputId": "552c9b46-e3d2-4ac5-c5c2-4cfa48273a3d"
      },
      "execution_count": 9,
      "outputs": [
        {
          "output_type": "stream",
          "name": "stdout",
          "text": [
            "tensor([[0.5756, 0.5610, 0.9350],\n",
            "        [0.0356, 0.1274, 0.7714]])\n"
          ]
        }
      ]
    },
    {
      "cell_type": "markdown",
      "source": [
        "#Manipulating the data type and shape of a tensor\n",
        "Learning ways to manipulate tensors is necessary to make them compatible for input to a model or an operation. In this section, you will learn how to manipulate tensor data types and shapes via several PyTorch functions that cast, reshape, transpose, and squeeze (remove dimensions)."
      ],
      "metadata": {
        "id": "EtEKXr7E284E"
      }
    },
    {
      "cell_type": "markdown",
      "source": [
        "The torch.to() function can be used to change the data type of a tensor to a desired type:"
      ],
      "metadata": {
        "id": "aPs2cMlZ3JXa"
      }
    },
    {
      "cell_type": "code",
      "source": [
        "t_a_new = t_a.to(torch.int64)\n",
        "\n",
        "print(t_a_new.dtype)"
      ],
      "metadata": {
        "colab": {
          "base_uri": "https://localhost:8080/"
        },
        "id": "v_OLCn8T24_U",
        "outputId": "f4317b83-7280-4a04-b4f7-3644d074f980"
      },
      "execution_count": 10,
      "outputs": [
        {
          "output_type": "stream",
          "name": "stdout",
          "text": [
            "torch.int64\n"
          ]
        }
      ]
    },
    {
      "cell_type": "code",
      "source": [
        "t = torch.rand(3, 5)\n",
        "\n",
        "t_tr = torch.transpose(t, 0, 1)\n",
        "print(t.shape, ' --> ', t_tr.shape)"
      ],
      "metadata": {
        "colab": {
          "base_uri": "https://localhost:8080/"
        },
        "id": "-KhyVtOM3NAg",
        "outputId": "c83086bf-a755-492b-c4d8-7cf0df8643a1"
      },
      "execution_count": 11,
      "outputs": [
        {
          "output_type": "stream",
          "name": "stdout",
          "text": [
            "torch.Size([3, 5])  -->  torch.Size([5, 3])\n"
          ]
        }
      ]
    },
    {
      "cell_type": "code",
      "source": [
        "t = torch.zeros(30)\n",
        "\n",
        "t_reshape = t.reshape(5, 6)\n",
        "\n",
        "print(t_reshape.shape)"
      ],
      "metadata": {
        "colab": {
          "base_uri": "https://localhost:8080/"
        },
        "id": "Y4T8aNjM3df0",
        "outputId": "6b22ea23-23fe-4e54-b384-a331621da41d"
      },
      "execution_count": 13,
      "outputs": [
        {
          "output_type": "stream",
          "name": "stdout",
          "text": [
            "torch.Size([5, 6])\n"
          ]
        }
      ]
    },
    {
      "cell_type": "markdown",
      "source": [
        "#Applying mathematical operations to tensors\n",
        "Applying mathematical operations, in particular linear algebra operations, is necessary for building most machine learning models. In this subsection, we will cover some widely used linear algebra operations, such as element-wise product, matrix multiplication, and computing the norm of a tensor."
      ],
      "metadata": {
        "id": "zmjJQFZJ3pHd"
      }
    },
    {
      "cell_type": "code",
      "source": [
        "torch.manual_seed(1)\n",
        "\n",
        "t1 = 2 * torch.rand(5, 2) - 1\n",
        "t2 = torch.normal(mean=0, std=1, size=(5, 2))"
      ],
      "metadata": {
        "id": "XRQgRSf73iwc"
      },
      "execution_count": 14,
      "outputs": []
    },
    {
      "cell_type": "code",
      "source": [
        "t3 = torch.multiply(t1, t2)\n",
        "print(t3)"
      ],
      "metadata": {
        "colab": {
          "base_uri": "https://localhost:8080/"
        },
        "id": "XA2f0IeJ3uu0",
        "outputId": "e53c79f6-075a-4581-ffd0-2138510b2b71"
      },
      "execution_count": 15,
      "outputs": [
        {
          "output_type": "stream",
          "name": "stdout",
          "text": [
            "tensor([[ 0.4426, -0.3114],\n",
            "        [ 0.0660, -0.5970],\n",
            "        [ 1.1249,  0.0150],\n",
            "        [ 0.1569,  0.7107],\n",
            "        [-0.0451, -0.0352]])\n"
          ]
        }
      ]
    },
    {
      "cell_type": "markdown",
      "source": [
        "To compute the mean, sum, and standard deviation along a certain axis (or axes), we can use torch.mean(), torch.sum(), and torch.std(). For example, the mean of each column in t1 can be computed as follows:\\"
      ],
      "metadata": {
        "id": "Ir7lVF9c4TOR"
      }
    },
    {
      "cell_type": "code",
      "source": [
        "t4 = torch.mean(t1, axis=0)\n",
        "print(t4)"
      ],
      "metadata": {
        "colab": {
          "base_uri": "https://localhost:8080/"
        },
        "id": "hmTBfnmC36sp",
        "outputId": "23649ad3-a42d-41a5-cfc5-0550f406bf70"
      },
      "execution_count": 16,
      "outputs": [
        {
          "output_type": "stream",
          "name": "stdout",
          "text": [
            "tensor([-0.1373,  0.2028])\n"
          ]
        }
      ]
    },
    {
      "cell_type": "code",
      "source": [
        "t5 = torch.matmul(t1, torch.transpose(t2, 0, 1))\n",
        "\n",
        "print(t5)"
      ],
      "metadata": {
        "colab": {
          "base_uri": "https://localhost:8080/"
        },
        "id": "pi5ycTjc4LQN",
        "outputId": "f1928e25-bb46-4248-dc52-e18efebd2779"
      },
      "execution_count": 17,
      "outputs": [
        {
          "output_type": "stream",
          "name": "stdout",
          "text": [
            "tensor([[ 0.1312,  0.3860, -0.6267, -1.0096, -0.2943],\n",
            "        [ 0.1647, -0.5310,  0.2434,  0.8035,  0.1980],\n",
            "        [-0.3855, -0.4422,  1.1399,  1.5558,  0.4781],\n",
            "        [ 0.1822, -0.5771,  0.2585,  0.8676,  0.2132],\n",
            "        [ 0.0330,  0.1084, -0.1692, -0.2771, -0.0804]])\n"
          ]
        }
      ]
    },
    {
      "cell_type": "code",
      "source": [
        "norm_t1 = torch.linalg.norm(t1, ord=2, dim=1)\n",
        "\n",
        "print(norm_t1)"
      ],
      "metadata": {
        "colab": {
          "base_uri": "https://localhost:8080/"
        },
        "id": "Leh0WhLn4cxn",
        "outputId": "c613cedb-a1c0-4f50-e90b-cbf79f280a2e"
      },
      "execution_count": 19,
      "outputs": [
        {
          "output_type": "stream",
          "name": "stdout",
          "text": [
            "tensor([0.6785, 0.5078, 1.1162, 0.5488, 0.1853])\n"
          ]
        }
      ]
    },
    {
      "cell_type": "markdown",
      "source": [
        "#Split, stack, and concatenate tensors"
      ],
      "metadata": {
        "id": "4ZCTxkZ04xV0"
      }
    },
    {
      "cell_type": "code",
      "source": [
        "torch.manual_seed(1)\n",
        "\n",
        "t = torch.rand(6)\n",
        "\n",
        "print(t)\n",
        "\n",
        "t_splits = torch.chunk(t, 3)\n",
        "\n",
        "[item.numpy() for item in t_splits]"
      ],
      "metadata": {
        "colab": {
          "base_uri": "https://localhost:8080/"
        },
        "id": "PS4s-Y8r4mir",
        "outputId": "9051bd62-676e-467c-ed52-1b8ed72691dd"
      },
      "execution_count": 20,
      "outputs": [
        {
          "output_type": "stream",
          "name": "stdout",
          "text": [
            "tensor([0.7576, 0.2793, 0.4031, 0.7347, 0.0293, 0.7999])\n"
          ]
        },
        {
          "output_type": "execute_result",
          "data": {
            "text/plain": [
              "[array([0.758, 0.279], dtype=float32),\n",
              " array([0.403, 0.735], dtype=float32),\n",
              " array([0.029, 0.8  ], dtype=float32)]"
            ]
          },
          "metadata": {},
          "execution_count": 20
        }
      ]
    },
    {
      "cell_type": "code",
      "source": [
        "A = torch.ones(3)\n",
        "B = torch.zeros(2)\n",
        "\n",
        "C = torch.cat([A, B], axis=0)\n",
        "print(C)\n",
        "\n"
      ],
      "metadata": {
        "colab": {
          "base_uri": "https://localhost:8080/"
        },
        "id": "nMtSufHA48xj",
        "outputId": "bc439e96-b583-48f4-fb17-5e0032e5069e"
      },
      "execution_count": 23,
      "outputs": [
        {
          "output_type": "stream",
          "name": "stdout",
          "text": [
            "tensor([1., 1., 1., 0., 0.])\n"
          ]
        }
      ]
    },
    {
      "cell_type": "markdown",
      "source": [
        "#Building input pipelines in PyTorch\n",
        "Creating a PyTorch DataLoader from existing tensors"
      ],
      "metadata": {
        "id": "Y6-X9DJD5ekk"
      }
    },
    {
      "cell_type": "code",
      "source": [],
      "metadata": {
        "id": "i6xzmyMt5dv1"
      },
      "execution_count": null,
      "outputs": []
    },
    {
      "cell_type": "code",
      "source": [],
      "metadata": {
        "id": "S86KNGK85RWl"
      },
      "execution_count": null,
      "outputs": []
    }
  ]
}